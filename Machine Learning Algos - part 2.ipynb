{
 "cells": [
  {
   "cell_type": "code",
   "execution_count": 12,
   "metadata": {},
   "outputs": [
    {
     "name": "stdout",
     "output_type": "stream",
     "text": [
      "   1  2  1.1  2.1  1.2  2.2  3  3.1  3.2  3.3  ...   3.8  2.19  3.9  4.6  \\\n",
      "0  3  3    4    2    1    2  2    4    3    2  ...     1     4    3    4   \n",
      "1  4  1    4    4    4    4  1    1    2    1  ...     1     2    1    1   \n",
      "2  1  4    1    1    3    3  4    4    3    4  ...     1     3    3    4   \n",
      "3  3  4    4    3    1    1  4    4    4    1  ...     3     1    3    2   \n",
      "4  3  2    3    1    2    3  4    3    1    4  ...     2     2    2    3   \n",
      "\n",
      "   2.20  2.21  2.22  2.23  1.15  1.16  \n",
      "0     4     4     1     3     4     1  \n",
      "1     4     2     2     4     4     1  \n",
      "2     1     3     3     4     2    -1  \n",
      "3     1     4     2     1     1    -1  \n",
      "4     4     2     2     2     2    -1  \n",
      "\n",
      "[5 rows x 58 columns]\n"
     ]
    }
   ],
   "source": [
    "import pandas as pd\n",
    "import numpy as np\n",
    "\n",
    "\n",
    "data = pd.read_csv(\"C:/Users/HP/Downloads/DataDNA.csv\")\n",
    "print(data.head())\n",
    "\n",
    "X = data.iloc[:,0:-1]\n",
    "y = data.iloc[:,-1]\n",
    "\n"
   ]
  },
  {
   "cell_type": "code",
   "execution_count": 17,
   "metadata": {},
   "outputs": [
    {
     "name": "stdout",
     "output_type": "stream",
     "text": [
      "done\n"
     ]
    }
   ],
   "source": [
    "from sklearn.preprocessing import StandardScaler\n",
    "scaler = StandardScaler()\n",
    "X = pd.DataFrame(scaler.fit_transform(X))\n",
    "from sklearn.model_selection import train_test_split\n",
    "X_train, X_test, y_train, y_test = train_test_split( X.values, y.values, test_size=0.30, random_state=42)\n",
    "print(\"done\")"
   ]
  },
  {
   "cell_type": "code",
   "execution_count": 90,
   "metadata": {},
   "outputs": [
    {
     "name": "stdout",
     "output_type": "stream",
     "text": [
      "('Positive Class Percentage = ', 51.65984538426558, '%')\n",
      "('Negative Class Percentage = ', 48.34015461573443, '%')\n"
     ]
    }
   ],
   "source": [
    "label_pos = data[data['1.16']==1].shape[0]\n",
    "label_neg = data[data['1.16']==-1].shape[0]\n",
    "\n",
    "class_zero_pos = (float(label_pos) / float(data.shape[0]))*100 \n",
    "class_one_neg = (float(label_neg) / float(data.shape[0]))*100\n",
    "\n",
    "print(\"Positive Class Percentage = \",class_zero_pos, \"%\")\n",
    "print(\"Negative Class Percentage = \",class_one_neg, \"%\")"
   ]
  },
  {
   "cell_type": "code",
   "execution_count": null,
   "metadata": {},
   "outputs": [],
   "source": [
    "# Explaination:\n",
    "We are using z-score normalization over min-max normalization because we want our data to be distributed like a standard normal\n",
    "distribution. In addition, there is no class imbalance in the data set as the percentage of positive class instances is simmilar\n",
    "to negative class instances. Finally, we split train and test data set randomly becuase we want shuffling on data so that there \n",
    "is no class imbalance among the train and test sets."
   ]
  },
  {
   "cell_type": "code",
   "execution_count": 24,
   "metadata": {},
   "outputs": [
    {
     "name": "stdout",
     "output_type": "stream",
     "text": [
      "('best_neighbor = ', {'n_neighbors': 11})\n",
      "('accuracy list', [0.7244881253349994, 0.7361714199063645, 0.7381308557751383, 0.7433075261267992, 0.7485209160560826, 0.7439509285806388, 0.7342195195506962, 0.7277230480275483, 0.721225307417331, 0.7205856529677162, 0.7192810512125717, 0.717987841612561, 0.7121386094329534, 0.7127845994417518, 0.7069277576778088, 0.7101817018621546])\n"
     ]
    },
    {
     "data": {
      "image/png": "[encoded data removed]",
      "text/plain": [
       "<Figure size 432x288 with 1 Axes>"
      ]
     },
     "metadata": {
      "needs_background": "light"
     },
     "output_type": "display_data"
    }
   ],
   "source": [
    "# Finding the best parameters for KNN classifier\n",
    "from sklearn.model_selection import cross_val_score\n",
    "from sklearn import metrics\n",
    "from sklearn.neighbors import KNeighborsClassifier\n",
    "from sklearn.model_selection import GridSearchCV\n",
    "neighbor_set = [1,3,5,7,9,11,13,15,17,19,21,23,25,27,29,31]\n",
    "parameter = {'n_neighbors': neighbor_set}\n",
    "knn = KNeighborsClassifier()\n",
    "clf_knn = GridSearchCV(knn,parameter,cv=5)\n",
    "clf_knn.fit(X_train,y_train)\n",
    "best_neighbor = clf_knn.best_params_\n",
    "print(\"best_neighbor = \",best_neighbor)\n",
    "\n",
    "accuracy_list=[]\n",
    "\n",
    "for i in range(0,len(neighbor_set)):\n",
    "    knn = KNeighborsClassifier(n_neighbors=neighbor_set[i])\n",
    "    accuracy = cross_val_score(knn,X_train,y_train,scoring='accuracy')\n",
    "    accuracy_list.append( ( float(sum(accuracy)) / float(len(accuracy)) )   )\n",
    "print(\"accuracy list\", accuracy_list)\n",
    "\n",
    "import matplotlib.pyplot as plt\n",
    "plt.scatter(neighbor_set,accuracy_list,marker='x')\n",
    "plt.xlabel(\"Number of Neighbors\")\n",
    "plt.ylabel(\"Accuracy\")\n",
    "plt.show()"
   ]
  },
  {
   "cell_type": "code",
   "execution_count": null,
   "metadata": {},
   "outputs": [],
   "source": [
    "# Explaination:\n",
    "We didnot evaluate on the test set directly because this would result in less estimation of error. Cross validation results in \n",
    "reduction of overfitting and better generalization to newer instances/examples."
   ]
  },
  {
   "cell_type": "code",
   "execution_count": 26,
   "metadata": {},
   "outputs": [
    {
     "name": "stdout",
     "output_type": "stream",
     "text": [
      "('Best Parameter Set = ', {'C': 20, 'gamma': 0.01})\n"
     ]
    }
   ],
   "source": [
    "# Finding the best parameter set for SVM(RBF Kernel)\n",
    "from sklearn.model_selection import cross_val_score\n",
    "from sklearn import metrics\n",
    "from sklearn.svm import SVC\n",
    "from sklearn.model_selection import GridSearchCV\n",
    "\n",
    "c_values = [0.1, 0.5, 1, 2, 5,10, 20, 50]\n",
    "sigma_values = [0.01, 0.05, 0.1, 0.5, 1, 2, 5,10]\n",
    "\n",
    "parameters = {'C' : c_values , 'gamma': sigma_values}\n",
    "svc = SVC(kernel='rbf')\n",
    "clf_svc = GridSearchCV(svc,parameters,cv=5,scoring = 'accuracy')\n",
    "clf_svc.fit(X_train,y_train)\n",
    "best_parameters = clf_svc.best_params_\n",
    "print(\"Best Parameter Set = \",best_parameters)\n",
    "\n"
   ]
  },
  {
   "cell_type": "code",
   "execution_count": 87,
   "metadata": {},
   "outputs": [
    {
     "data": {
      "text/plain": [
       "Text(0.5,1,'ROC')"
      ]
     },
     "execution_count": 87,
     "metadata": {},
     "output_type": "execute_result"
    },
    {
     "data": {
      "image/png": "[encoded data removed]",
      "text/plain": [
       "<Figure size 432x288 with 1 Axes>"
      ]
     },
     "metadata": {
      "needs_background": "light"
     },
     "output_type": "display_data"
    }
   ],
   "source": [
    "# Plotting the ROC Curve\n",
    "from sklearn import metrics\n",
    "\n",
    "svm = SVC(kernel='rbf',C=20,gamma=0.01)\n",
    "svm.fit(X_train,y_train)\n",
    "y_pred = svm.predict(X_test)\n",
    "fpr, tpr, thresholds = metrics.roc_curve(y_test,y_pred)\n",
    "plt.plot(fpr, tpr, lw=2, alpha=0.3,color='blue')\n",
    "\n",
    "plt.xlabel('False Positive Rate')\n",
    "plt.ylabel('True Positive Rate')\n",
    "plt.title('ROC')\n"
   ]
  },
  {
   "cell_type": "code",
   "execution_count": 91,
   "metadata": {},
   "outputs": [
    {
     "name": "stdout",
     "output_type": "stream",
     "text": [
      "('KNN-Score  = ', 0.7866242038216561)\n",
      "('Train Time:', 0.097, 's')\n",
      "('Test Time:', 0.207, 's')\n"
     ]
    }
   ],
   "source": [
    "# Training,Testing/Predicting  - KNN Classifier (1st Classifier)\n",
    "\n",
    "from sklearn.neighbors import KNeighborsClassifier\n",
    "from sklearn.metrics import accuracy_score\n",
    "import time\n",
    "\n",
    "knn = KNeighborsClassifier(n_neighbors=11)\n",
    "s1 = time.time()\n",
    "knn.fit(X_train,y_train)\n",
    "e1 = time.time()\n",
    "s2=time.time()\n",
    "y_pred = knn.predict(X_test)\n",
    "e2 = time.time()\n",
    "knn_score = accuracy_score(y_test,y_pred)\n",
    "print(\"KNN-Score  = \",knn_score)\n",
    "print(\"Train Time:\", round(e1 - s1, 3),\"s\")\n",
    "print(\"Test Time:\", round(e2 - s2, 3),\"s\")\n"
   ]
  },
  {
   "cell_type": "code",
   "execution_count": 96,
   "metadata": {},
   "outputs": [
    {
     "name": "stdout",
     "output_type": "stream",
     "text": [
      "('SVM-Score = ', 0.9299363057324841)\n",
      "('Train Time:', 0.51, 's')\n",
      "('Test Time:', 0.057, 's')\n"
     ]
    }
   ],
   "source": [
    "# Training,Testing/Predicting - SVM Classifier (2nd Classifier)\n",
    "\n",
    "from sklearn.svm import SVC\n",
    "from sklearn.metrics import accuracy_score\n",
    "\n",
    "svm = SVC(kernel='rbf',C=20,gamma=0.01)\n",
    "s1 = time.time()\n",
    "svm.fit(X_train,y_train)\n",
    "e1 = time.time()\n",
    "s2 = time.time()\n",
    "y_pred = svm.predict(X_test)\n",
    "e2 = time.time()\n",
    "svm_score = accuracy_score(y_test,y_pred)\n",
    "print(\"SVM-Score = \",svm_score)\n",
    "print(\"Train Time:\", round(e1 - s1, 3),\"s\")\n",
    "print(\"Test Time:\", round(e2 - s2, 3),\"s\")\n"
   ]
  },
  {
   "cell_type": "code",
   "execution_count": 112,
   "metadata": {},
   "outputs": [
    {
     "name": "stdout",
     "output_type": "stream",
     "text": [
      "('Forest-Score = ', 0.945859872611465)\n",
      "('Train Time:', 0.129, 's')\n",
      "('Test Time:', 0.003, 's')\n"
     ]
    }
   ],
   "source": [
    "# Training,Testing/Predicting - Random Forest Classifier (Default Parameters) (3rd Classifier)\n",
    "\n",
    "from sklearn.ensemble import RandomForestClassifier\n",
    "from sklearn.metrics import accuracy_score\n",
    "\n",
    "forest = RandomForestClassifier()\n",
    "s1 = time.time()\n",
    "forest.fit(X_train,y_train)\n",
    "e1 = time.time()\n",
    "s2 = time.time()\n",
    "y_pred = forest.predict(X_test)\n",
    "e2 = time.time()\n",
    "forest_score = accuracy_score(y_test,y_pred)\n",
    "print(\"Forest-Score = \",forest_score)\n",
    "print(\"Train Time:\", round(e1 - s1, 3),\"s\")\n",
    "print(\"Test Time:\", round(e2 - s2, 3),\"s\")"
   ]
  },
  {
   "cell_type": "code",
   "execution_count": 98,
   "metadata": {},
   "outputs": [
    {
     "name": "stdout",
     "output_type": "stream",
     "text": [
      "('Neural Network - Score = ', 0.9044585987261147)\n",
      "('Train Time:', 2.65, 's')\n",
      "('Test Time:', 0.004, 's')\n"
     ]
    }
   ],
   "source": [
    "# Training,Testing/Predicting - Neural Networks(Default Parameters)  (4th Classifier)\n",
    "\n",
    "from sklearn.neural_network import MLPClassifier\n",
    "from sklearn.metrics import accuracy_score\n",
    "\n",
    "neural_net = MLPClassifier()\n",
    "s1 = time.time()\n",
    "neural_net.fit(X_train,y_train)\n",
    "e1 = time.time()\n",
    "s2 = time.time()\n",
    "y_pred = neural_net.predict(X_test)\n",
    "e2 = time.time()\n",
    "neural_net_score = accuracy_score(y_test,y_pred)\n",
    "print(\"Neural Network - Score = \",neural_net_score)\n",
    "print(\"Train Time:\", round(e1 - s1, 3),\"s\")\n",
    "print(\"Test Time:\", round(e2 - s2, 3),\"s\")"
   ]
  },
  {
   "cell_type": "code",
   "execution_count": 32,
   "metadata": {},
   "outputs": [
    {
     "name": "stdout",
     "output_type": "stream",
     "text": [
      "{'max_features': 'auto', 'n_estimators': 20, 'bootstrap': False, 'criterion': 'gini', 'max_depth': 10}\n"
     ]
    }
   ],
   "source": [
    "# Finding the best parameter set for Random Forest Classifier\n",
    "from sklearn.model_selection import GridSearchCV\n",
    "from sklearn.ensemble import RandomForestClassifier\n",
    "\n",
    "parameters = {'n_estimators': [1,3,5,7,10,12,15,20,25], 'criterion' : ('gini','entropy'), 'max_depth' : [1,2,5,10,15,None],'max_features':('auto','sqrt','log2',None),'bootstrap':(True,False)}\n",
    "forest = RandomForestClassifier(random_state=0)\n",
    "clf_forest = GridSearchCV(forest,parameters,cv=5)\n",
    "clf_forest.fit(X_train,y_train)\n",
    "best_parameters = clf_forest.best_params_\n",
    "print(best_parameters)"
   ]
  },
  {
   "cell_type": "code",
   "execution_count": 110,
   "metadata": {},
   "outputs": [
    {
     "name": "stdout",
     "output_type": "stream",
     "text": [
      "('Optimal Forest-Score = ', 0.9585987261146497)\n",
      "('Train Time:', 0.212, 's')\n",
      "('Test Time:', 0.005, 's')\n"
     ]
    }
   ],
   "source": [
    "# Training,Testing/Predicting - Random Forest Classifier (Optimal Parameters) (5th Classifier)\n",
    "\n",
    "from sklearn.ensemble import RandomForestClassifier\n",
    "from sklearn.metrics import accuracy_score\n",
    "\n",
    "forest = RandomForestClassifier(criterion= 'gini',random_state=0,n_estimators=20,max_features='auto',max_depth=10,bootstrap=False)\n",
    "s1 = time.time()\n",
    "forest.fit(X_train,y_train)\n",
    "e1 = time.time()\n",
    "s2 = time.time()\n",
    "y_pred = forest.predict(X_test)\n",
    "e2 = time.time()\n",
    "forest_score = accuracy_score(y_test,y_pred)\n",
    "print(\"Optimal Forest-Score = \",forest_score)\n",
    "print(\"Train Time:\", round(e1 - s1, 3),\"s\")\n",
    "print(\"Test Time:\", round(e2 - s2, 3),\"s\")"
   ]
  },
  {
   "cell_type": "code",
   "execution_count": 35,
   "metadata": {},
   "outputs": [
    {
     "name": "stdout",
     "output_type": "stream",
     "text": [
      "('Best Parameters = ', {'alpha': 0.001, 'activation': 'relu', 'random_state': 1, 'solver': 'lbfgs', 'hidden_layer_sizes': 10})\n"
     ]
    }
   ],
   "source": [
    "from sklearn.neural_network import MLPClassifier\n",
    "from sklearn.model_selection import GridSearchCV\n",
    "\n",
    "parameters = {\n",
    "    'solver': ['lbfgs', 'sgd', 'adam'], \n",
    "    'activation' : ['identity', 'logistic', 'tanh', 'relu'],\n",
    "    'alpha': 10.0 ** -np.arange(1, 10), \n",
    "    'hidden_layer_sizes': (10,10,5,10), \n",
    "    'random_state':[0,1]\n",
    "}\n",
    "neural_net = MLPClassifier()\n",
    "clf_net = GridSearchCV(neural_net, parameters, n_jobs=-1)\n",
    "clf_net.fit(X_train,y_train)\n",
    "best_parameters = clf_net.best_params_\n",
    "print(\"Best Parameters = \",best_parameters)"
   ]
  },
  {
   "cell_type": "code",
   "execution_count": 105,
   "metadata": {},
   "outputs": [
    {
     "name": "stdout",
     "output_type": "stream",
     "text": [
      "('Optimized Neural Network - Score = ', 0.910828025477707)\n",
      "('Train Time:', 0.283, 's')\n",
      "('Test Time:', 0.001, 's')\n"
     ]
    }
   ],
   "source": [
    "# Training,Testing/Predicting - Neural Network Classifier (Optimal Parameters) (6th Classifier)\n",
    "from sklearn.neural_network import MLPClassifier \n",
    "from sklearn.metrics import accuracy_score\n",
    "\n",
    "neural_net = MLPClassifier(alpha=0.001,activation = 'relu',random_state=1,solver='lbfgs',hidden_layer_sizes=(100,))\n",
    "s1 = time.time()\n",
    "neural_net.fit(X_train,y_train)\n",
    "e1 = time.time()\n",
    "s2 = time.time()\n",
    "y_pred = neural_net.predict(X_test)\n",
    "e2 = time.time()\n",
    "neural_net_score = accuracy_score(y_test,y_pred)\n",
    "print(\"Optimized Neural Network - Score = \",neural_net_score)\n",
    "print(\"Train Time:\", round(e1 - s1, 3),\"s\")\n",
    "print(\"Test Time:\", round(e2 - s2, 3),\"s\")"
   ]
  },
  {
   "cell_type": "code",
   "execution_count": 62,
   "metadata": {},
   "outputs": [
    {
     "name": "stdout",
     "output_type": "stream",
     "text": [
      "('Average Accuracy = ', 0.753820417917727)\n",
      "('Standard Deviation Accuracy = ', 0.025650254121647755)\n",
      "('Average Precision = ', 0.9512175167117545)\n",
      "('Standard Deviation Precision = ', 0.022747468158357636)\n",
      "('Average Recall = ', 0.5526222376897526)\n",
      "('Standard Deviation Recall = ', 0.03775124202819243)\n",
      "('Average F Score = ', 0.6982743480457662)\n",
      "('Standard Deviation F Score = ', 0.031064680904035125)\n"
     ]
    }
   ],
   "source": [
    "# Averages and Deviations for different Metrics (1st Classifier)\n",
    "\n",
    "from sklearn.model_selection import KFold\n",
    "from sklearn.metrics import accuracy_score\n",
    "from sklearn.metrics import precision_score\n",
    "from sklearn.metrics import recall_score\n",
    "from sklearn.metrics import f1_score\n",
    "from sklearn.neighbors import KNeighborsClassifier\n",
    "import numpy as np\n",
    "\n",
    "\n",
    "accuracy_list=[]\n",
    "precision_list=[]\n",
    "recall_list=[]\n",
    "F_list=[]\n",
    "splits_list = [4,5,6,7]\n",
    "\n",
    "for i in range(0,len(splits_list)):\n",
    "    kf = KFold(n_splits=splits_list[i]) \n",
    "\n",
    "    for j in range(0,20): \n",
    "        for train_index, test_index in kf.split(X):\n",
    "        \n",
    "            X_train, X_test = X.values[train_index], X.values[test_index]\n",
    "            y_train, y_test = y.values[train_index], y.values[test_index]\n",
    "            knn = KNeighborsClassifier(n_neighbors=11)\n",
    "            knn.fit(X_train,y_train)\n",
    "            y_pred = knn.predict(X_test)\n",
    "            knn_acc = accuracy_score(y_test,y_pred)\n",
    "            accuracy_list.append(knn_acc)\n",
    "            knn_pre = precision_score(y_test,y_pred)\n",
    "            precision_list.append(knn_pre)\n",
    "            knn_rec = recall_score(y_test,y_pred)\n",
    "            recall_list.append(knn_rec)\n",
    "            knn_f  =  f1_score(y_test,y_pred)\n",
    "            F_list.append(knn_f)\n",
    "\n",
    "            \n",
    "print(\"Average Accuracy = \",np.mean((np.array(accuracy_list))) )\n",
    "print(\"Standard Deviation Accuracy = \",np.std((np.array(accuracy_list))))\n",
    "\n",
    "print(\"Average Precision = \",np.mean((np.array(precision_list))) )\n",
    "print(\"Standard Deviation Precision = \",np.std((np.array(precision_list))))\n",
    "\n",
    "print(\"Average Recall = \",np.mean((np.array(recall_list))) )\n",
    "print(\"Standard Deviation Recall = \",np.std((np.array(recall_list))))\n",
    "\n",
    "print(\"Average F Score = \",np.mean((np.array(F_list))) )\n",
    "print(\"Standard Deviation F Score = \",np.std((np.array(F_list))))\n",
    "\n"
   ]
  },
  {
   "cell_type": "code",
   "execution_count": 63,
   "metadata": {},
   "outputs": [
    {
     "name": "stdout",
     "output_type": "stream",
     "text": [
      "('Average Accuracy = ', 0.9027156368511134)\n",
      "('Standard Deviation Accuracy = ', 0.017663920623134714)\n",
      "('Average Precision = ', 0.921350573324545)\n",
      "('Standard Deviation Precision = ', 0.02569325974288477)\n",
      "('Average Recall = ', 0.8885811059148636)\n",
      "('Standard Deviation Recall = ', 0.029989615021141235)\n",
      "('Average F Score = ', 0.9041336687154403)\n",
      "('Standard Deviation F Score = ', 0.01712186074987965)\n"
     ]
    }
   ],
   "source": [
    "# Averages and Deviations for different Metrics (2nd Classifier)\n",
    "\n",
    "from sklearn.model_selection import KFold\n",
    "from sklearn.metrics import accuracy_score\n",
    "from sklearn.metrics import precision_score\n",
    "from sklearn.metrics import recall_score\n",
    "from sklearn.metrics import f1_score\n",
    "from sklearn.svm import SVC\n",
    "import numpy as np\n",
    "\n",
    "\n",
    "accuracy_list=[]\n",
    "precision_list=[]\n",
    "recall_list=[]\n",
    "F_list=[]\n",
    "splits_list = [4,5,6,7]\n",
    "\n",
    "for i in range(0,len(splits_list)):\n",
    "    kf = KFold(n_splits=splits_list[i]) \n",
    "\n",
    "    for j in range(0,20): \n",
    "        for train_index, test_index in kf.split(X):\n",
    "        \n",
    "            X_train, X_test = X.values[train_index], X.values[test_index]\n",
    "            y_train, y_test = y.values[train_index], y.values[test_index]\n",
    "            svm = SVC(kernel='rbf',C=20,gamma=0.01)\n",
    "            svm.fit(X_train,y_train)\n",
    "            y_pred = svm.predict(X_test)\n",
    "            svm_acc = accuracy_score(y_test,y_pred)\n",
    "            accuracy_list.append(svm_acc)\n",
    "            svm_pre = precision_score(y_test,y_pred)\n",
    "            precision_list.append(svm_pre)\n",
    "            svm_rec = recall_score(y_test,y_pred)\n",
    "            recall_list.append(svm_rec)\n",
    "            svm_f  =  f1_score(y_test,y_pred)\n",
    "            F_list.append(svm_f)\n",
    "\n",
    "            \n",
    "print(\"Average Accuracy = \",np.mean((np.array(accuracy_list))) )\n",
    "print(\"Standard Deviation Accuracy = \",np.std((np.array(accuracy_list))))\n",
    "\n",
    "print(\"Average Precision = \",np.mean((np.array(precision_list))) )\n",
    "print(\"Standard Deviation Precision = \",np.std((np.array(precision_list))))\n",
    "\n",
    "print(\"Average Recall = \",np.mean((np.array(recall_list))) )\n",
    "print(\"Standard Deviation Recall = \",np.std((np.array(recall_list))))\n",
    "\n",
    "print(\"Average F Score = \",np.mean((np.array(F_list))) )\n",
    "print(\"Standard Deviation F Score = \",np.std((np.array(F_list))))\n",
    "\n"
   ]
  },
  {
   "cell_type": "code",
   "execution_count": 64,
   "metadata": {},
   "outputs": [
    {
     "name": "stdout",
     "output_type": "stream",
     "text": [
      "('Average Accuracy = ', 0.9355813592745502)\n",
      "('Standard Deviation Accuracy = ', 0.018427829366581848)\n",
      "('Average Precision = ', 0.9699956722290802)\n",
      "('Standard Deviation Precision = ', 0.0171367448971743)\n",
      "('Average Recall = ', 0.9039348735111813)\n",
      "('Standard Deviation Recall = ', 0.027033754922418836)\n",
      "('Average F Score = ', 0.9355796023650377)\n",
      "('Standard Deviation F Score = ', 0.018031325750435142)\n"
     ]
    }
   ],
   "source": [
    "# Averages and Deviations for different Metrics (3rd Classifier)\n",
    "\n",
    "from sklearn.model_selection import KFold\n",
    "from sklearn.metrics import accuracy_score\n",
    "from sklearn.metrics import precision_score\n",
    "from sklearn.metrics import recall_score\n",
    "from sklearn.metrics import f1_score\n",
    "from sklearn.ensemble import RandomForestClassifier\n",
    "import numpy as np\n",
    "\n",
    "\n",
    "accuracy_list=[]\n",
    "precision_list=[]\n",
    "recall_list=[]\n",
    "F_list=[]\n",
    "splits_list = [4,5,6,7]\n",
    "\n",
    "for i in range(0,len(splits_list)):\n",
    "    kf = KFold(n_splits=splits_list[i]) \n",
    "\n",
    "    for j in range(0,20): \n",
    "        for train_index, test_index in kf.split(X):\n",
    "        \n",
    "            X_train, X_test = X.values[train_index], X.values[test_index]\n",
    "            y_train, y_test = y.values[train_index], y.values[test_index]\n",
    "            forest = RandomForestClassifier(random_state=0)\n",
    "            forest.fit(X_train,y_train)\n",
    "            y_pred = forest.predict(X_test)\n",
    "            forest_acc = accuracy_score(y_test,y_pred)\n",
    "            accuracy_list.append(forest_acc)\n",
    "            forest_pre = precision_score(y_test,y_pred)\n",
    "            precision_list.append(forest_pre)\n",
    "            forest_rec = recall_score(y_test,y_pred)\n",
    "            recall_list.append(forest_rec)\n",
    "            forest_f  =  f1_score(y_test,y_pred)\n",
    "            F_list.append(forest_f)\n",
    "\n",
    "            \n",
    "print(\"Average Accuracy = \",np.mean((np.array(accuracy_list))) )\n",
    "print(\"Standard Deviation Accuracy = \",np.std((np.array(accuracy_list))))\n",
    "\n",
    "print(\"Average Precision = \",np.mean((np.array(precision_list))) )\n",
    "print(\"Standard Deviation Precision = \",np.std((np.array(precision_list))))\n",
    "\n",
    "print(\"Average Recall = \",np.mean((np.array(recall_list))) )\n",
    "print(\"Standard Deviation Recall = \",np.std((np.array(recall_list))))\n",
    "\n",
    "print(\"Average F Score = \",np.mean((np.array(F_list))) )\n",
    "print(\"Standard Deviation F Score = \",np.std((np.array(F_list))))\n",
    "\n"
   ]
  },
  {
   "cell_type": "code",
   "execution_count": 65,
   "metadata": {},
   "outputs": [
    {
     "name": "stderr",
     "output_type": "stream",
     "text": [
      "C:\\ProgramData\\Anaconda2\\lib\\site-packages\\sklearn\\neural_network\\multilayer_perceptron.py:566: UserWarning: Training interrupted by user.\n",
      "  warnings.warn(\"Training interrupted by user.\")\n"
     ]
    },
    {
     "name": "stdout",
     "output_type": "stream",
     "text": [
      "('Average Accuracy = ', 0.9001598041364567)\n",
      "('Standard Deviation Accuracy = ', 0.022365156491323753)\n",
      "('Average Precision = ', 0.9175258276713423)\n",
      "('Standard Deviation Precision = ', 0.0269006961080435)\n",
      "('Average Recall = ', 0.8868319934135459)\n",
      "('Standard Deviation Recall = ', 0.029963930349820773)\n",
      "('Average F Score = ', 0.901578729247026)\n",
      "('Standard Deviation F Score = ', 0.022451937573698212)\n"
     ]
    }
   ],
   "source": [
    "# Averages and Deviations for different Metrics (4th Classifier)\n",
    "\n",
    "from sklearn.model_selection import KFold\n",
    "from sklearn.metrics import accuracy_score\n",
    "from sklearn.metrics import precision_score\n",
    "from sklearn.metrics import recall_score\n",
    "from sklearn.metrics import f1_score\n",
    "from sklearn.neural_network import MLPClassifier\n",
    "\n",
    "import numpy as np\n",
    "\n",
    "\n",
    "accuracy_list=[]\n",
    "precision_list=[]\n",
    "recall_list=[]\n",
    "F_list=[]\n",
    "splits_list = [4,5,6,7]\n",
    "\n",
    "for i in range(0,len(splits_list)):\n",
    "    kf = KFold(n_splits=splits_list[i]) \n",
    "\n",
    "    for j in range(0,20): \n",
    "        for train_index, test_index in kf.split(X):\n",
    "        \n",
    "            X_train, X_test = X.values[train_index], X.values[test_index]\n",
    "            y_train, y_test = y.values[train_index], y.values[test_index]\n",
    "            nn = MLPClassifier()\n",
    "            nn.fit(X_train,y_train)\n",
    "            y_pred = nn.predict(X_test)\n",
    "            nn_acc = accuracy_score(y_test,y_pred)\n",
    "            accuracy_list.append(nn_acc)\n",
    "            nn_pre = precision_score(y_test,y_pred)\n",
    "            precision_list.append(nn_pre)\n",
    "            nn_rec = recall_score(y_test,y_pred)\n",
    "            recall_list.append(nn_rec)\n",
    "            nn_f  =  f1_score(y_test,y_pred)\n",
    "            F_list.append(nn_f)\n",
    "\n",
    "            \n",
    "print(\"Average Accuracy = \",np.mean((np.array(accuracy_list))) )\n",
    "print(\"Standard Deviation Accuracy = \",np.std((np.array(accuracy_list))))\n",
    "\n",
    "print(\"Average Precision = \",np.mean((np.array(precision_list))) )\n",
    "print(\"Standard Deviation Precision = \",np.std((np.array(precision_list))))\n",
    "\n",
    "print(\"Average Recall = \",np.mean((np.array(recall_list))) )\n",
    "print(\"Standard Deviation Recall = \",np.std((np.array(recall_list))))\n",
    "\n",
    "print(\"Average F Score = \",np.mean((np.array(F_list))) )\n",
    "print(\"Standard Deviation F Score = \",np.std((np.array(F_list))))\n",
    "\n"
   ]
  },
  {
   "cell_type": "code",
   "execution_count": 66,
   "metadata": {},
   "outputs": [
    {
     "name": "stdout",
     "output_type": "stream",
     "text": [
      "('Average Accuracy = ', 0.9601745923017476)\n",
      "('Standard Deviation Accuracy = ', 0.012460986957900048)\n",
      "('Average Precision = ', 0.9734800436039744)\n",
      "('Standard Deviation Precision = ', 0.016801971056152318)\n",
      "('Average Recall = ', 0.9489097429785305)\n",
      "('Standard Deviation Recall = ', 0.01725415734883057)\n",
      "('Average F Score = ', 0.9608902951974302)\n",
      "('Standard Deviation F Score = ', 0.012211836428435017)\n"
     ]
    }
   ],
   "source": [
    "# Averages and Deviations for different Metrics (5th Classifier)\n",
    "\n",
    "from sklearn.model_selection import KFold\n",
    "from sklearn.metrics import accuracy_score\n",
    "from sklearn.metrics import precision_score\n",
    "from sklearn.metrics import recall_score\n",
    "from sklearn.metrics import f1_score\n",
    "from sklearn.ensemble import RandomForestClassifier\n",
    "import numpy as np\n",
    "\n",
    "\n",
    "accuracy_list=[]\n",
    "precision_list=[]\n",
    "recall_list=[]\n",
    "F_list=[]\n",
    "splits_list = [4,5,6,7]\n",
    "\n",
    "for i in range(0,len(splits_list)):\n",
    "    kf = KFold(n_splits=splits_list[i]) \n",
    "\n",
    "    for j in range(0,20): \n",
    "        for train_index, test_index in kf.split(X):\n",
    "        \n",
    "            X_train, X_test = X.values[train_index], X.values[test_index]\n",
    "            y_train, y_test = y.values[train_index], y.values[test_index]\n",
    "            forest = RandomForestClassifier(criterion= 'gini',random_state=0,n_estimators=20,max_features='auto',max_depth=10,bootstrap=False)\n",
    "            forest.fit(X_train,y_train)\n",
    "            y_pred = forest.predict(X_test)\n",
    "            forest_acc = accuracy_score(y_test,y_pred)\n",
    "            accuracy_list.append(forest_acc)\n",
    "            forest_pre = precision_score(y_test,y_pred)\n",
    "            precision_list.append(forest_pre)\n",
    "            forest_rec = recall_score(y_test,y_pred)\n",
    "            recall_list.append(forest_rec)\n",
    "            forest_f  =  f1_score(y_test,y_pred)\n",
    "            F_list.append(forest_f)\n",
    "\n",
    "            \n",
    "print(\"Average Accuracy = \",np.mean((np.array(accuracy_list))) )\n",
    "print(\"Standard Deviation Accuracy = \",np.std((np.array(accuracy_list))))\n",
    "\n",
    "print(\"Average Precision = \",np.mean((np.array(precision_list))) )\n",
    "print(\"Standard Deviation Precision = \",np.std((np.array(precision_list))))\n",
    "\n",
    "print(\"Average Recall = \",np.mean((np.array(recall_list))) )\n",
    "print(\"Standard Deviation Recall = \",np.std((np.array(recall_list))))\n",
    "\n",
    "print(\"Average F Score = \",np.mean((np.array(F_list))) )\n",
    "print(\"Standard Deviation F Score = \",np.std((np.array(F_list))))\n",
    "\n"
   ]
  },
  {
   "cell_type": "code",
   "execution_count": 68,
   "metadata": {},
   "outputs": [
    {
     "name": "stdout",
     "output_type": "stream",
     "text": [
      "('Average Accuracy = ', 0.9095357201719575)\n",
      "('Standard Deviation Accuracy = ', 0.019672627432528768)\n",
      "('Average Precision = ', 0.920843520475066)\n",
      "('Standard Deviation Precision = ', 0.025120390635659098)\n",
      "('Average Recall = ', 0.9024825257251476)\n",
      "('Standard Deviation Recall = ', 0.024060055393685994)\n",
      "('Average F Score = ', 0.9113445782017302)\n",
      "('Standard Deviation F Score = ', 0.019936588921653658)\n"
     ]
    }
   ],
   "source": [
    "# Averages and Deviations for different Metrics (6th Classifier)\n",
    "\n",
    "from sklearn.model_selection import KFold\n",
    "from sklearn.metrics import accuracy_score\n",
    "from sklearn.metrics import precision_score\n",
    "from sklearn.metrics import recall_score\n",
    "from sklearn.metrics import f1_score\n",
    "from sklearn.neural_network import MLPClassifier\n",
    "\n",
    "import numpy as np\n",
    "\n",
    "\n",
    "accuracy_list=[]\n",
    "precision_list=[]\n",
    "recall_list=[]\n",
    "F_list=[]\n",
    "splits_list = [4,5,6,7]\n",
    "\n",
    "for i in range(0,len(splits_list)):\n",
    "    kf = KFold(n_splits=splits_list[i]) \n",
    "\n",
    "    for j in range(0,20): \n",
    "        for train_index, test_index in kf.split(X):\n",
    "        \n",
    "            X_train, X_test = X.values[train_index], X.values[test_index]\n",
    "            y_train, y_test = y.values[train_index], y.values[test_index]\n",
    "            nn = MLPClassifier(alpha=0.001,activation = 'relu',random_state=1,solver='lbfgs',hidden_layer_sizes=(100,))\n",
    "            nn.fit(X_train,y_train)\n",
    "            y_pred = nn.predict(X_test)\n",
    "            nn_acc = accuracy_score(y_test,y_pred)\n",
    "            accuracy_list.append(nn_acc)\n",
    "            nn_pre = precision_score(y_test,y_pred)\n",
    "            precision_list.append(nn_pre)\n",
    "            nn_rec = recall_score(y_test,y_pred)\n",
    "            recall_list.append(nn_rec)\n",
    "            nn_f  =  f1_score(y_test,y_pred)\n",
    "            F_list.append(nn_f)\n",
    "\n",
    "            \n",
    "print(\"Average Accuracy = \",np.mean((np.array(accuracy_list))) )\n",
    "print(\"Standard Deviation Accuracy = \",np.std((np.array(accuracy_list))))\n",
    "\n",
    "print(\"Average Precision = \",np.mean((np.array(precision_list))) )\n",
    "print(\"Standard Deviation Precision = \",np.std((np.array(precision_list))))\n",
    "\n",
    "print(\"Average Recall = \",np.mean((np.array(recall_list))) )\n",
    "print(\"Standard Deviation Recall = \",np.std((np.array(recall_list))))\n",
    "\n",
    "print(\"Average F Score = \",np.mean((np.array(F_list))) )\n",
    "print(\"Standard Deviation F Score = \",np.std((np.array(F_list))))\n",
    "\n"
   ]
  },
  {
   "cell_type": "code",
   "execution_count": null,
   "metadata": {},
   "outputs": [],
   "source": [
    "# Explaination\n",
    "KNN:\n",
    "    Across all the classifiers KNN has the minimum training time because it doesnot require training at all because all the \n",
    "    classification is done during test where pair wise distances are calculated depending upon the number of neighbors. As a\n",
    "    result of this, KNN has the maximum testing time of about 0.207 seconds. It also offers a poor average accuracy of about 75 %.\n",
    "    The only positive is its minimal training time.\n",
    "SVM:\n",
    "    SVM has a decent but not the most optimal performance across all the six classifiers. It has an average accuracy of about 90 %\n",
    "    with a significantly less testing time of about 0.057 seconds as compared to KNN. However, its training time is significantly\n",
    "    higher than four out of the remaining six. Nonetheless, it is a parametric model with a reasonable high accuracy.\n",
    "Random Forest (Default Parameters):\n",
    "    Random Forest with default parameters has a significantly high accuracy of about 94 % and a low training and testing time of\n",
    "    0.129 seconds and 0.003 seconds respectively. It is an ensemble method therefore it performs a lot better than most of the\n",
    "    other classifiers present. However, its accuracy is still not optimal and can be improved upto an extent.\n",
    "Neural Networks (Default Parameters):\n",
    "    Neural Networks with default parameters have a daunting training time of about 2.65 seconds. Eventhough, the testing time of\n",
    "    0.004 seconds is less and accuracy of 90 % is decent but with a such a large training time, the classifier is obviously not\n",
    "    the perfect choice for the data set.\n",
    "Random Forest (Optimal Parameters):\n",
    "    Random Forests with optimal parameters is by far the best choice in terms of accuracy. It has an impressive average accuracy\n",
    "    of about 96%. In addition, it has a reasonable training time of 0.212 seconds and testing time of 0.005 seconds. This makes\n",
    "    it perhaps the best of the rest of the six classifiers.\n",
    "Neural Networks (Optimal Parameters):\n",
    "    Neural Networks with optimal parameters is a huge improvement from its default parameters version. It now has an increased \n",
    "    accuracy of 91 % and a significantly reduced (about 10 times) training time of 0.283 seconds and smallest testing time of \n",
    "    0.001 seconds. However,its training time is still very high as compared to the other five classifiers.\n",
    "Result:\n",
    "    According to the time and accuracy analysis, Random Forests with optimal parameters is the go to choice with the data set \n",
    "    at hand. It has the best accuracy beating the second highest with about 2 % and extremely low testing time and a more\n",
    "    than decent training time. It is no doubt the best pick out of all the six classifiers.\n",
    "    "
   ]
  },
  {
   "cell_type": "code",
   "execution_count": null,
   "metadata": {},
   "outputs": [],
   "source": [
    "# Explaination:\n",
    "We have repeated the classification 20 times to make sure that the entire volume of data is used as the training and test set\n",
    "respectively so that the models do not overfit to particular part of the data and generalize to the new inputs given in the \n",
    "future."
   ]
  },
  {
   "cell_type": "code",
   "execution_count": 79,
   "metadata": {},
   "outputs": [
    {
     "name": "stdout",
     "output_type": "stream",
     "text": [
      "('Importances = ', [0.007331042336518689, 0.0068368122544985805, 0.007563641949898216, 0.008198187272377113, 0.0075200522077407085, 0.00708031217951373, 0.007195155292274915, 0.008848622168875274, 0.009012104590641584, 0.0075757327018675215, 0.007531604256753403, 0.009904065124597777, 0.008977004239565801, 0.008637127909998484, 0.013414559765739022, 0.010250986045963698, 0.01253725368718682, 0.013885834314140746, 0.014915120486398573, 0.013692447370236364, 0.014737757973785333, 0.016437654417548547, 0.010904229609143652, 0.01941914892970433, 0.016803984770771187, 0.007288342410537013, 0.03488847640783015, 0.13740414172828277, 0.12773907653218863, 0.0766217451742689, 0.08471711087393756, 0.026486991205435892, 0.031113346019253016, 0.02781643382652445, 0.012649392138739793, 0.007814936056262448, 0.006842647748738247, 0.00798065796560796, 0.00787726281818683, 0.007792267471480653, 0.007526919405026737, 0.008113291172795373, 0.006950697819236363, 0.007812276422475577, 0.007383898296603472, 0.007803204644832672, 0.007148034409661244, 0.007371399478209443, 0.0072332845705707, 0.007346107076473326, 0.007137668155835039, 0.007299559738595787, 0.007162264957729857, 0.007128412462093669, 0.007379785560603517, 0.007388869093407999, 0.00757105650283478])\n",
      "('Least Important Feature Number = ', '2')\n"
     ]
    }
   ],
   "source": [
    "# Feature Selection\n",
    "from sklearn.ensemble import ExtraTreesClassifier\n",
    "forest = ExtraTreesClassifier(n_estimators=250,random_state=0)\n",
    "forest.fit(X.values, y.values)\n",
    "importances = list(forest.feature_importances_)\n",
    "print(\"Importances = \",importances)\n",
    "unimportant = importances.index(min(importances))\n",
    "feature_names = list(data)\n",
    "print(\"Least Important Feature Number = \",feature_names[unimportant])\n"
   ]
  },
  {
   "cell_type": "code",
   "execution_count": null,
   "metadata": {},
   "outputs": [],
   "source": [
    "# Explaination:\n",
    "We have removed feature number 2 because it has the minimal importance when compared with all the other features in the data.\n",
    "\n",
    "If we would have done classification on two features then these two features would have been the ones with the maximum importnace\n",
    "which are features 27 and 28 with a combined importance of about 25% of the entire data. This would have resulted in loss of\n",
    "some important information and would have resulted in less accuracy."
   ]
  }
 ],
 "metadata": {
  "kernelspec": {
   "display_name": "Python 2",
   "language": "python",
   "name": "python2"
  },
  "language_info": {
   "codemirror_mode": {
    "name": "ipython",
    "version": 2
   },
   "file_extension": ".py",
   "mimetype": "text/x-python",
   "name": "python",
   "nbconvert_exporter": "python",
   "pygments_lexer": "ipython2",
   "version": "2.7.15"
  }
 },
 "nbformat": 4,
 "nbformat_minor": 2
}
